{
 "cells": [
  {
   "cell_type": "markdown",
   "metadata": {},
   "source": [
    "There is an undirected connected tree with n nodes labeled from 0 to n - 1 and n - 1 edges.\n",
    "\n",
    "You are given the integer n and the array edges where edges[i] = [ai, bi] indicates that there is an edge between nodes ai and bi in the tree.\n",
    "\n",
    "Return an array answer of length n where answer[i] is the sum of the distances between the ith node in the tree and all other nodes.\n",
    "\n",
    " \n",
    "\n",
    "Example 1:\n",
    "\n",
    "\n",
    "Input: n = 6, edges = [[0,1],[0,2],[2,3],[2,4],[2,5]]\n",
    "Output: [8,12,6,10,10,10]\n",
    "Explanation: The tree is shown above.\n",
    "We can see that dist(0,1) + dist(0,2) + dist(0,3) + dist(0,4) + dist(0,5)\n",
    "equals 1 + 1 + 2 + 2 + 2 = 8.\n",
    "Hence, answer[0] = 8, and so on.\n",
    "Example 2:\n",
    "\n",
    "\n",
    "Input: n = 1, edges = []\n",
    "Output: [0]\n",
    "Example 3:\n",
    "\n",
    "\n",
    "Input: n = 2, edges = [[1,0]]\n",
    "Output: [1,1]\n",
    " "
   ]
  },
  {
   "cell_type": "code",
   "execution_count": 1,
   "metadata": {},
   "outputs": [],
   "source": [
    "class Solution(object):\n",
    "    def sumOfDistancesInTree(self, n, edges):\n",
    "        graph = [[] for _ in range(n)]\n",
    "        for a, b in edges:\n",
    "            graph[a].append(b)\n",
    "            graph[b].append(a)\n",
    "\n",
    "        count = [1] * n\n",
    "        ans = [0] * n\n",
    "\n",
    "        def dfs(node=0, parent=None):\n",
    "            for child in graph[node]:\n",
    "                if child == parent:\n",
    "                    continue\n",
    "                dfs(child, node)\n",
    "                count[node] += count[child]\n",
    "                ans[node] += ans[child] + count[child]\n",
    "\n",
    "        def dfs2(node=0, parent=None):\n",
    "            for child in graph[node]:\n",
    "                if child == parent:\n",
    "                    continue\n",
    "                ans[child] = ans[node] - count[child] + n - count[child]\n",
    "                dfs2(child, node)\n",
    "\n",
    "        dfs()\n",
    "        dfs2()\n",
    "        return ans"
   ]
  }
 ],
 "metadata": {
  "kernelspec": {
   "display_name": "Python 3",
   "language": "python",
   "name": "python3"
  },
  "language_info": {
   "codemirror_mode": {
    "name": "ipython",
    "version": 3
   },
   "file_extension": ".py",
   "mimetype": "text/x-python",
   "name": "python",
   "nbconvert_exporter": "python",
   "pygments_lexer": "ipython3",
   "version": "3.8.5"
  }
 },
 "nbformat": 4,
 "nbformat_minor": 4
}
