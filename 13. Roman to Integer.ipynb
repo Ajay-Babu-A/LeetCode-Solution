{
 "cells": [
  {
   "cell_type": "code",
   "execution_count": 1,
   "metadata": {},
   "outputs": [],
   "source": [
    "class Solution(object):\n",
    "    def romanToInt(self, s):\n",
    "        # largest to smallest = Add them up\n",
    "        # smallest to largest = subtract them up\n",
    "        roman_val = {'I': 1, 'V': 5, 'X': 10, 'L': 50, 'C': 100, 'D': 500, 'M': 1000}\n",
    "        res = 0\n",
    "        for i in range(len(s)):\n",
    "            if i > 0 and roman_val[s[i]] > roman_val[s[i - 1]]:\n",
    "                res += roman_val[s[i]] - 2 * roman_val[s[i - 1]]\n",
    "            else:\n",
    "                res += roman_val[s[i]]\n",
    "        return res"
   ]
  }
 ],
 "metadata": {
  "kernelspec": {
   "display_name": "Python 3",
   "language": "python",
   "name": "python3"
  },
  "language_info": {
   "codemirror_mode": {
    "name": "ipython",
    "version": 3
   },
   "file_extension": ".py",
   "mimetype": "text/x-python",
   "name": "python",
   "nbconvert_exporter": "python",
   "pygments_lexer": "ipython3",
   "version": "3.8.5"
  }
 },
 "nbformat": 4,
 "nbformat_minor": 4
}
