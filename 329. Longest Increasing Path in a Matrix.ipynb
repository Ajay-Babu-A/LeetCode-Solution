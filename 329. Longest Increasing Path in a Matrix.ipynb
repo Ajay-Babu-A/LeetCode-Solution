{
 "cells": [
  {
   "cell_type": "markdown",
   "metadata": {},
   "source": [
    "Given an m x n integers matrix, return the length of the longest increasing path in matrix.\n",
    "\n",
    "From each cell, you can either move in four directions: left, right, up, or down. You may not move diagonally or move outside the boundary (i.e., wrap-around is not allowed).\n",
    "\n",
    " \n",
    "\n",
    "Example 1:\n",
    "\n",
    "\n",
    "Input: matrix = [[9,9,4],[6,6,8],[2,1,1]]\n",
    "Output: 4\n",
    "Explanation: The longest increasing path is [1, 2, 6, 9].\n",
    "Example 2:\n",
    "\n",
    "\n",
    "Input: matrix = [[3,4,5],[3,2,6],[2,2,1]]\n",
    "Output: 4\n",
    "Explanation: The longest increasing path is [3, 4, 5, 6]. Moving diagonally is not allowed.\n",
    "Example 3:\n",
    "\n",
    "Input: matrix = [[1]]\n",
    "Output: 1"
   ]
  },
  {
   "cell_type": "code",
   "execution_count": 1,
   "metadata": {},
   "outputs": [],
   "source": [
    "class Solution(object):\n",
    "    def longestIncreasingPath(self, matrix):\n",
    "        row, col = len(matrix) , len(matrix[0])\n",
    "\n",
    "        dp = {}\n",
    "\n",
    "        def dfs(r, c, preval):\n",
    "            if r < 0 or r == row or c < 0 or c == col or matrix[r][c] <= preval:\n",
    "                return 0\n",
    "            if (r,c) in dp:\n",
    "                return dp[(r,c)]\n",
    "            \n",
    "            res = 1\n",
    "            res = max(res , 1 + dfs(r+1, c, matrix[r][c]))\n",
    "            res = max(res , 1 + dfs(r-1, c, matrix[r][c]))\n",
    "            res = max(res , 1 + dfs(r, c+1, matrix[r][c]))\n",
    "            res = max(res , 1 + dfs(r, c-1, matrix[r][c]))\n",
    "            dp[(r,c)] = res\n",
    "            return res\n",
    "        \n",
    "        for r in range(row):\n",
    "            for c in range(col):\n",
    "                dfs(r,c,-1)\n",
    "        return max(dp.values())"
   ]
  }
 ],
 "metadata": {
  "kernelspec": {
   "display_name": "Python 3",
   "language": "python",
   "name": "python3"
  },
  "language_info": {
   "codemirror_mode": {
    "name": "ipython",
    "version": 3
   },
   "file_extension": ".py",
   "mimetype": "text/x-python",
   "name": "python",
   "nbconvert_exporter": "python",
   "pygments_lexer": "ipython3",
   "version": "3.8.5"
  }
 },
 "nbformat": 4,
 "nbformat_minor": 4
}
