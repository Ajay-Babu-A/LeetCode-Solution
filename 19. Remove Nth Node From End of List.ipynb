{
 "cells": [
  {
   "cell_type": "code",
   "execution_count": 1,
   "metadata": {},
   "outputs": [],
   "source": [
    "# Definition for singly-linked list.\n",
    "# class ListNode(object):\n",
    "#     def __init__(self, val=0, next=None):\n",
    "#         self.val = val\n",
    "#         self.next = next\n",
    "class Solution(object):\n",
    "    def removeNthFromEnd(self, head, n):\n",
    "        dummy = ListNode(0, head) # adding dummy node of value 0 then list will be 0->1->2->3->4->5->null\n",
    "        \n",
    "        left = dummy  # 0\n",
    "        right = head  # 1\n",
    "\n",
    "        while n>0 and right:   # End: right points to 3\n",
    "            right = right.next\n",
    "            n -=1\n",
    "        while right:          # End: left points to 3 , rights points to null\n",
    "            left = left.next  \n",
    "            right= right.next\n",
    "        left.next = left.next.next # left.next (3.next) = 3.next.next (i.e5) \n",
    "        return dummy.next # dummy.next (0) = 1\n",
    "        \n"
   ]
  }
 ],
 "metadata": {
  "kernelspec": {
   "display_name": "Python 3",
   "language": "python",
   "name": "python3"
  },
  "language_info": {
   "codemirror_mode": {
    "name": "ipython",
    "version": 3
   },
   "file_extension": ".py",
   "mimetype": "text/x-python",
   "name": "python",
   "nbconvert_exporter": "python",
   "pygments_lexer": "ipython3",
   "version": "3.8.5"
  }
 },
 "nbformat": 4,
 "nbformat_minor": 4
}
