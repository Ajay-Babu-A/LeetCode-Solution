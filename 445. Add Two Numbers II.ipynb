{
 "cells": [
  {
   "cell_type": "code",
   "execution_count": 1,
   "metadata": {},
   "outputs": [],
   "source": [
    "# Definition for singly-linked list.\n",
    "# class ListNode(object):\n",
    "#     def __init__(self, val=0, next=None):\n",
    "#         self.val = val\n",
    "#         self.next = next\n",
    "class Solution(object):\n",
    "    def addTwoNumbers(self, l1, l2):\n",
    "        v1 = v2 = 0\n",
    "\n",
    "        while l1:\n",
    "            v1 = v1*10 + l1.val\n",
    "            l1 = l1.next\n",
    "        while l2:\n",
    "            v2 = v2*10 + l2.val\n",
    "            l2 = l2.next\n",
    "        sum_list = str(v1+v2)\n",
    "\n",
    "        dummy = ListNode(0)\n",
    "        dummy_list = dummy\n",
    "        for i in sum_list:\n",
    "            dummy.next = ListNode(i)\n",
    "            dummy = dummy.next\n",
    "        return dummy_list.next"
   ]
  }
 ],
 "metadata": {
  "kernelspec": {
   "display_name": "Python 3",
   "language": "python",
   "name": "python3"
  },
  "language_info": {
   "codemirror_mode": {
    "name": "ipython",
    "version": 3
   },
   "file_extension": ".py",
   "mimetype": "text/x-python",
   "name": "python",
   "nbconvert_exporter": "python",
   "pygments_lexer": "ipython3",
   "version": "3.8.5"
  }
 },
 "nbformat": 4,
 "nbformat_minor": 4
}
