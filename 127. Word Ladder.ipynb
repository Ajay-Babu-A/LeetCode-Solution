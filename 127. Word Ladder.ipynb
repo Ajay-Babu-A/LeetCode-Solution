{
 "cells": [
  {
   "cell_type": "markdown",
   "metadata": {},
   "source": [
    "A transformation sequence from word beginWord to word endWord using a dictionary wordList is a sequence of words beginWord -> s1 -> s2 -> ... -> sk such that:\n",
    "\n",
    "Every adjacent pair of words differs by a single letter.\n",
    "Every si for 1 <= i <= k is in wordList. Note that beginWord does not need to be in wordList.\n",
    "sk == endWord\n",
    "Given two words, beginWord and endWord, and a dictionary wordList, return the number of words in the shortest transformation sequence from beginWord to endWord, or 0 if no such sequence exists.\n",
    "\n",
    " \n",
    "\n",
    "Example 1:\n",
    "\n",
    "Input: beginWord = \"hit\", endWord = \"cog\", wordList = [\"hot\",\"dot\",\"dog\",\"lot\",\"log\",\"cog\"]\n",
    "Output: 5\n",
    "Explanation: One shortest transformation sequence is \"hit\" -> \"hot\" -> \"dot\" -> \"dog\" -> cog\", which is 5 words long.\n",
    "Example 2:\n",
    "\n",
    "Input: beginWord = \"hit\", endWord = \"cog\", wordList = [\"hot\",\"dot\",\"dog\",\"lot\",\"log\"]\n",
    "Output: 0\n",
    "Explanation: The endWord \"cog\" is not in wordList, therefore there is no valid transformation sequence."
   ]
  },
  {
   "cell_type": "code",
   "execution_count": null,
   "metadata": {},
   "outputs": [],
   "source": [
    "class Solution(object):\n",
    "    def ladderLength(self, beginWord, endWord, wordList):\n",
    "        # Create a set of words in wordList for faster lookup\n",
    "        wordSet = set(wordList)\n",
    "        # If endWord is not in wordList, return 0\n",
    "        if endWord not in wordSet:\n",
    "            return 0\n",
    "        # Create a queue and enqueue the beginWord\n",
    "        queue = deque([(beginWord, 1)])\n",
    "        # Mark the beginWord as visited\n",
    "        visited = set([beginWord])\n",
    "        # While the queue is not empty\n",
    "        while queue:\n",
    "            # Dequeue the front element of the queue and call it current_word\n",
    "            current_word, level = queue.popleft()\n",
    "            # For each word in the wordList\n",
    "            for i in range(len(current_word)):\n",
    "                for j in 'abcdefghijklmnopqrstuvwxyz':\n",
    "                    # If the character at index i is already equal to j, skip this iteration\n",
    "                    if current_word[i] == j:\n",
    "                        continue\n",
    "                    # Create a new word by replacing the character at index i with j\n",
    "                    new_word = current_word[:i] + j + current_word[i+1:]\n",
    "                    # If new_word is equal to endWord, return level + 1\n",
    "                    if new_word == endWord:\n",
    "                        return level + 1\n",
    "                    # If new_word is in wordSet and has not been visited yet\n",
    "                    if new_word in wordSet and new_word not in visited:\n",
    "                        # Enqueue the new_word into the queue and mark it as visited\n",
    "                        queue.append((new_word, level + 1))\n",
    "                        visited.add(new_word)\n",
    "        # If no such sequence exists, return 0\n",
    "        return 0\n"
   ]
  }
 ],
 "metadata": {
  "kernelspec": {
   "display_name": "Python 3",
   "language": "python",
   "name": "python3"
  },
  "language_info": {
   "codemirror_mode": {
    "name": "ipython",
    "version": 3
   },
   "file_extension": ".py",
   "mimetype": "text/x-python",
   "name": "python",
   "nbconvert_exporter": "python",
   "pygments_lexer": "ipython3",
   "version": "3.8.5"
  }
 },
 "nbformat": 4,
 "nbformat_minor": 4
}
