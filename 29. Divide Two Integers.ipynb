{
 "cells": [
  {
   "cell_type": "code",
   "execution_count": 1,
   "metadata": {},
   "outputs": [],
   "source": [
    "class Solution(object):\n",
    "    def divide(self, dividend, divisor):\n",
    "        if dividend == -2147483648 and divisor == -1:\n",
    "            return 2147483647\n",
    "        sign = 1 if (dividend > 0) == (divisor > 0) else -1\n",
    "        dividend, divisor = abs(dividend), abs(divisor)\n",
    "        quotient = 0\n",
    "        while dividend >= divisor:\n",
    "            temp = divisor\n",
    "            multiple = 1\n",
    "            while dividend >= (temp << 1):\n",
    "                temp <<= 1\n",
    "                multiple <<= 1\n",
    "            dividend -= temp\n",
    "            quotient += multiple\n",
    "        return sign * quotient\n",
    "    "
   ]
  }
 ],
 "metadata": {
  "kernelspec": {
   "display_name": "Python 3",
   "language": "python",
   "name": "python3"
  },
  "language_info": {
   "codemirror_mode": {
    "name": "ipython",
    "version": 3
   },
   "file_extension": ".py",
   "mimetype": "text/x-python",
   "name": "python",
   "nbconvert_exporter": "python",
   "pygments_lexer": "ipython3",
   "version": "3.8.5"
  }
 },
 "nbformat": 4,
 "nbformat_minor": 4
}
