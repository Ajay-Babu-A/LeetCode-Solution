{
 "cells": [
  {
   "cell_type": "markdown",
   "metadata": {},
   "source": [
    "You are given n balloons, indexed from 0 to n - 1. Each balloon is painted with a number on it represented by an array nums. You are asked to burst all the balloons.\n",
    "\n",
    "If you burst the ith balloon, you will get nums[i - 1] * nums[i] * nums[i + 1] coins. If i - 1 or i + 1 goes out of bounds of the array, then treat it as if there is a balloon with a 1 painted on it.\n",
    "\n",
    "Return the maximum coins you can collect by bursting the balloons wisely.\n",
    "\n",
    " \n",
    "\n",
    "Example 1:\n",
    "\n",
    "Input: nums = [3,1,5,8]\n",
    "Output: 167\n",
    "Explanation:\n",
    "nums = [3,1,5,8] --> [3,5,8] --> [3,8] --> [8] --> []\n",
    "coins =  3*1*5    +   3*5*8   +  1*3*8  + 1*8*1 = 167\n",
    "Example 2:\n",
    "\n",
    "Input: nums = [1,5]\n",
    "Output: 10\n",
    " "
   ]
  },
  {
   "cell_type": "code",
   "execution_count": 1,
   "metadata": {},
   "outputs": [],
   "source": [
    "class Solution(object):\n",
    "    def maxCoins(self, nums):\n",
    "        nums = [1] + nums + [1]\n",
    "        \n",
    "        dp = {}\n",
    "        \n",
    "        def dfs(l, r):\n",
    "            \n",
    "            if l > r:\n",
    "                return 0\n",
    "            if (l,r) in dp:\n",
    "                return dp[(l,r)]\n",
    "            \n",
    "            for i in range(l , r+1):\n",
    "                \n",
    "                coins = nums[l-1] * nums[i] * nums[r+1]\n",
    "                \n",
    "                coins +=  dfs(l, i-1) + dfs(i+1, r)\n",
    "                \n",
    "                if (l,r) not in dp:\n",
    "                    dp[(l,r)] = coins\n",
    "                else:\n",
    "                    dp[(l,r)] = max( dp[(l,r)],coins)\n",
    "            return dp[(l,r)]\n",
    "        \n",
    "        return dfs(1, len(nums)-2)"
   ]
  }
 ],
 "metadata": {
  "kernelspec": {
   "display_name": "Python 3",
   "language": "python",
   "name": "python3"
  },
  "language_info": {
   "codemirror_mode": {
    "name": "ipython",
    "version": 3
   },
   "file_extension": ".py",
   "mimetype": "text/x-python",
   "name": "python",
   "nbconvert_exporter": "python",
   "pygments_lexer": "ipython3",
   "version": "3.8.5"
  }
 },
 "nbformat": 4,
 "nbformat_minor": 4
}
