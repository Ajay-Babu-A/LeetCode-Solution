{
 "cells": [
  {
   "cell_type": "code",
   "execution_count": 1,
   "metadata": {},
   "outputs": [],
   "source": [
    "# Definition for singly-linked list.\n",
    "# class ListNode(object):\n",
    "#     def __init__(self, val=0, next=None):\n",
    "#         self.val = val\n",
    "#         self.next = next\n",
    "class Solution(object):\n",
    "    def addTwoNumbers(self, l1, l2):\n",
    "        dummy = ListNode()\n",
    "        curr = dummy\n",
    "        carry = 0\n",
    "        while l1 or l2 or carry:\n",
    "            v1 = l1.val if l1 else 0\n",
    "            v2 = l2.val if l2 else 0\n",
    "\n",
    "            # Add the v1, v2 and carry\n",
    "            val = v1 + v2 + carry\n",
    "            carry = val//10\n",
    "            val = val%10\n",
    "            curr.next = ListNode(val)\n",
    "\n",
    "            # updating the ptr\n",
    "            curr = curr.next\n",
    "            l1 = l1.next if l1 else None\n",
    "            l2 = l2.next if l2 else None\n",
    "        return dummy.next\n",
    "                "
   ]
  }
 ],
 "metadata": {
  "kernelspec": {
   "display_name": "Python 3",
   "language": "python",
   "name": "python3"
  },
  "language_info": {
   "codemirror_mode": {
    "name": "ipython",
    "version": 3
   },
   "file_extension": ".py",
   "mimetype": "text/x-python",
   "name": "python",
   "nbconvert_exporter": "python",
   "pygments_lexer": "ipython3",
   "version": "3.8.5"
  }
 },
 "nbformat": 4,
 "nbformat_minor": 4
}
