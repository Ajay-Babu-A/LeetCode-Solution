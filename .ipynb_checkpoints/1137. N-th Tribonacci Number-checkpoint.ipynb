{
 "cells": [
  {
   "cell_type": "code",
   "execution_count": 1,
   "metadata": {},
   "outputs": [],
   "source": [
    "class Solution(object):\n",
    "    def tribonacci(self, n):\n",
    "        x=0\n",
    "        y=z=1\n",
    "        if n==0: return 0\n",
    "        elif n==1 | n==2: return 1\n",
    "        else:\n",
    "            for i in range(3,n+1):\n",
    "                c=x+y+z\n",
    "                x=y\n",
    "                y=z\n",
    "                z=c\n",
    "            return z"
   ]
  }
 ],
 "metadata": {
  "kernelspec": {
   "display_name": "Python 3",
   "language": "python",
   "name": "python3"
  },
  "language_info": {
   "codemirror_mode": {
    "name": "ipython",
    "version": 3
   },
   "file_extension": ".py",
   "mimetype": "text/x-python",
   "name": "python",
   "nbconvert_exporter": "python",
   "pygments_lexer": "ipython3",
   "version": "3.8.5"
  }
 },
 "nbformat": 4,
 "nbformat_minor": 4
}
