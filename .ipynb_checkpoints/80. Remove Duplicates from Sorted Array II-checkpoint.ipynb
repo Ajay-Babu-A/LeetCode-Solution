{
 "cells": [
  {
   "cell_type": "code",
   "execution_count": 1,
   "metadata": {},
   "outputs": [],
   "source": [
    "class Solution(object):\n",
    "    def removeDuplicates(self, nums):\n",
    "        l=0\n",
    "        r=0 # using 2pointers \n",
    "        while r<len(nums):\n",
    "            count = 1\n",
    "            while r+1<len(nums) and nums[r]==nums[r+1]:\n",
    "                r+=1\n",
    "                count+=1\n",
    "            # count=3,2, but we need 2 duplicates\n",
    "            for i in range(min(2,count)):\n",
    "                nums[l] = nums[r]\n",
    "                l+=1\n",
    "            r+=1\n",
    "        return l"
   ]
  }
 ],
 "metadata": {
  "kernelspec": {
   "display_name": "Python 3",
   "language": "python",
   "name": "python3"
  },
  "language_info": {
   "codemirror_mode": {
    "name": "ipython",
    "version": 3
   },
   "file_extension": ".py",
   "mimetype": "text/x-python",
   "name": "python",
   "nbconvert_exporter": "python",
   "pygments_lexer": "ipython3",
   "version": "3.8.5"
  }
 },
 "nbformat": 4,
 "nbformat_minor": 4
}
