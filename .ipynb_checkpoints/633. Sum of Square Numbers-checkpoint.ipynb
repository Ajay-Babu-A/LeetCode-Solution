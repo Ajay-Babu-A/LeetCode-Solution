{
 "cells": [
  {
   "cell_type": "code",
   "execution_count": 1,
   "metadata": {},
   "outputs": [],
   "source": [
    "class Solution(object):\n",
    "    def judgeSquareSum(self, c):\n",
    "        a, b = 0, int(c ** 0.5)      \n",
    "        while a <= b:\n",
    "            res = a ** 2 + b ** 2\n",
    "            if res < c:\n",
    "                a += 1\n",
    "            elif res > c:\n",
    "                b -= 1\n",
    "            else:\n",
    "                return True    \n",
    "        return False"
   ]
  }
 ],
 "metadata": {
  "kernelspec": {
   "display_name": "Python 3",
   "language": "python",
   "name": "python3"
  },
  "language_info": {
   "codemirror_mode": {
    "name": "ipython",
    "version": 3
   },
   "file_extension": ".py",
   "mimetype": "text/x-python",
   "name": "python",
   "nbconvert_exporter": "python",
   "pygments_lexer": "ipython3",
   "version": "3.8.5"
  }
 },
 "nbformat": 4,
 "nbformat_minor": 4
}
