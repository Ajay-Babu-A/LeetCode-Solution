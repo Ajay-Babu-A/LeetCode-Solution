{
 "cells": [
  {
   "cell_type": "code",
   "execution_count": 1,
   "metadata": {},
   "outputs": [],
   "source": [
    "class Solution(object):\n",
    "    def generate(self, numRows):\n",
    "        result = [[1]]\n",
    "        # for loop run to n-1 rows\n",
    "        for i in range(numRows-1):\n",
    "            # adding zeros to previous row as [0] + result[-1] + [0] and empty row list\n",
    "            temp = [0] + result[-1] + [0]\n",
    "            row = []\n",
    "            # for loop of previous row len +1\n",
    "            for j in range(len(result[-1])+1):\n",
    "                # add the previous row and store it in row list\n",
    "                row.append(temp[j] + temp[j+1])\n",
    "            result.append(row)\n",
    "        return result\n",
    "            "
   ]
  }
 ],
 "metadata": {
  "kernelspec": {
   "display_name": "Python 3",
   "language": "python",
   "name": "python3"
  },
  "language_info": {
   "codemirror_mode": {
    "name": "ipython",
    "version": 3
   },
   "file_extension": ".py",
   "mimetype": "text/x-python",
   "name": "python",
   "nbconvert_exporter": "python",
   "pygments_lexer": "ipython3",
   "version": "3.8.5"
  }
 },
 "nbformat": 4,
 "nbformat_minor": 4
}
