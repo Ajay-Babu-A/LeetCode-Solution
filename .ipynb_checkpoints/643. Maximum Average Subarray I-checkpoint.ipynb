{
 "cells": [
  {
   "cell_type": "code",
   "execution_count": 1,
   "metadata": {},
   "outputs": [],
   "source": [
    "class Solution(object):\n",
    "    def findMaxAverage(self, nums, k):\n",
    "        max_sum = current_sum = sum(nums[:k])\n",
    "        for i in range(len(nums)-k):\n",
    "            current_sum += nums[i+k]-nums[i]\n",
    "            max_sum = max(current_sum, max_sum)\n",
    "        return float(max_sum)/k"
   ]
  }
 ],
 "metadata": {
  "kernelspec": {
   "display_name": "Python 3",
   "language": "python",
   "name": "python3"
  },
  "language_info": {
   "codemirror_mode": {
    "name": "ipython",
    "version": 3
   },
   "file_extension": ".py",
   "mimetype": "text/x-python",
   "name": "python",
   "nbconvert_exporter": "python",
   "pygments_lexer": "ipython3",
   "version": "3.8.5"
  }
 },
 "nbformat": 4,
 "nbformat_minor": 4
}
