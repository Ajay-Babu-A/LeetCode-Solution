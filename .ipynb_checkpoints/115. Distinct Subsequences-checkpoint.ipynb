{
 "cells": [
  {
   "cell_type": "markdown",
   "metadata": {},
   "source": [
    "Given two strings s and t, return the number of distinct \n",
    "subsequences\n",
    " of s which equals t.\n",
    "\n",
    "The test cases are generated so that the answer fits on a 32-bit signed integer.\n",
    "\n",
    " \n",
    "\n",
    "Example 1:\n",
    "\n",
    "Input: s = \"rabbbit\", t = \"rabbit\"\n",
    "Output: 3\n",
    "Explanation:\n",
    "As shown below, there are 3 ways you can generate \"rabbit\" from s.\n",
    "rabbbit\n",
    "rabbbit\n",
    "rabbbit\n",
    "Example 2:\n",
    "\n",
    "Input: s = \"babgbag\", t = \"bag\"\n",
    "Output: 5\n",
    "Explanation:\n",
    "As shown below, there are 5 ways you can generate \"bag\" from s.\n",
    "babgbag\n",
    "babgbag\n",
    "babgbag\n",
    "babgbag\n",
    "babgbag"
   ]
  },
  {
   "cell_type": "code",
   "execution_count": 1,
   "metadata": {},
   "outputs": [],
   "source": [
    "class Solution(object):\n",
    "    def numDistinct(self, s, t):\n",
    "        dp = {}\n",
    "\n",
    "        def dfs(i,j):\n",
    "            if j == len(t):\n",
    "                return 1\n",
    "            if i == len(s):\n",
    "                return 0\n",
    "            if (i,j) in dp:\n",
    "                return dp[(i,j)]\n",
    "            if s[i] == t[j]:\n",
    "                dp[(i,j)] = dfs(i+1,j+1) + dfs(i+1, j)\n",
    "            else:\n",
    "                dp[(i,j)] = dfs(i+1, j)\n",
    "            return dp[(i,j)]\n",
    "        return dfs(0,0)"
   ]
  }
 ],
 "metadata": {
  "kernelspec": {
   "display_name": "Python 3",
   "language": "python",
   "name": "python3"
  },
  "language_info": {
   "codemirror_mode": {
    "name": "ipython",
    "version": 3
   },
   "file_extension": ".py",
   "mimetype": "text/x-python",
   "name": "python",
   "nbconvert_exporter": "python",
   "pygments_lexer": "ipython3",
   "version": "3.8.5"
  }
 },
 "nbformat": 4,
 "nbformat_minor": 4
}
