{
 "cells": [
  {
   "cell_type": "code",
   "execution_count": 1,
   "metadata": {},
   "outputs": [],
   "source": [
    "class Solution(object):\n",
    "    def reverse(self, x):\n",
    "        s = 1       \n",
    "        if x<0: \n",
    "            s=-1\n",
    "            x *=-1\n",
    "        x = str(x)\n",
    "        x=x[::-1]\n",
    "        if int(x)<=-2**31 or int(x)>=2**31:\n",
    "            return 0\n",
    "        else:\n",
    "            if s==1:\n",
    "                return int(x)\n",
    "            else:\n",
    "                return int(x)*s"
   ]
  }
 ],
 "metadata": {
  "kernelspec": {
   "display_name": "Python 3",
   "language": "python",
   "name": "python3"
  },
  "language_info": {
   "codemirror_mode": {
    "name": "ipython",
    "version": 3
   },
   "file_extension": ".py",
   "mimetype": "text/x-python",
   "name": "python",
   "nbconvert_exporter": "python",
   "pygments_lexer": "ipython3",
   "version": "3.8.5"
  }
 },
 "nbformat": 4,
 "nbformat_minor": 4
}
