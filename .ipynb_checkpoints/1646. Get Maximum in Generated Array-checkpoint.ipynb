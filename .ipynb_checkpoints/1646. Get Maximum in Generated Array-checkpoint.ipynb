{
 "cells": [
  {
   "cell_type": "code",
   "execution_count": 1,
   "metadata": {},
   "outputs": [],
   "source": [
    "class Solution(object):\n",
    "    def getMaximumGenerated(self, n):\n",
    "        if n==0 | n==1:\n",
    "            return n\n",
    "        l = list(range(0,n+1))\n",
    "        for i in l:\n",
    "            if i%2==0:\n",
    "                l[i] = l[i//2]\n",
    "            else:\n",
    "                l[i] = l[i//2]+l[(i+1)//2]\n",
    "        return max(l)"
   ]
  }
 ],
 "metadata": {
  "kernelspec": {
   "display_name": "Python 3",
   "language": "python",
   "name": "python3"
  },
  "language_info": {
   "codemirror_mode": {
    "name": "ipython",
    "version": 3
   },
   "file_extension": ".py",
   "mimetype": "text/x-python",
   "name": "python",
   "nbconvert_exporter": "python",
   "pygments_lexer": "ipython3",
   "version": "3.8.5"
  }
 },
 "nbformat": 4,
 "nbformat_minor": 4
}
