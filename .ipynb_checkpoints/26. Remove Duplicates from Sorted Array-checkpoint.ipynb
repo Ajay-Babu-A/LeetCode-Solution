{
 "cells": [
  {
   "cell_type": "code",
   "execution_count": 1,
   "metadata": {},
   "outputs": [],
   "source": [
    "class Solution(object):\n",
    "    def removeDuplicates(self, nums):\n",
    "        i,j = 0,1\n",
    "        while(i<=j and j<len(nums)):\n",
    "            if(nums[i]==nums[j]):\n",
    "                j += 1\n",
    "            else:\n",
    "                nums[i+1] = nums[j]\n",
    "                i += 1\n",
    "        k = i+1\n",
    "        return k"
   ]
  }
 ],
 "metadata": {
  "kernelspec": {
   "display_name": "Python 3",
   "language": "python",
   "name": "python3"
  },
  "language_info": {
   "codemirror_mode": {
    "name": "ipython",
    "version": 3
   },
   "file_extension": ".py",
   "mimetype": "text/x-python",
   "name": "python",
   "nbconvert_exporter": "python",
   "pygments_lexer": "ipython3",
   "version": "3.8.5"
  }
 },
 "nbformat": 4,
 "nbformat_minor": 4
}
