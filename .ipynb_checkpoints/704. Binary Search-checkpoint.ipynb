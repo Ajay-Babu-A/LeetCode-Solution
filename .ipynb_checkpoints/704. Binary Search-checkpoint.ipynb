{
 "cells": [
  {
   "cell_type": "code",
   "execution_count": 1,
   "metadata": {},
   "outputs": [],
   "source": [
    "class Solution(object):\n",
    "    def search(self, nums, target):\n",
    "        first = 0\n",
    "        last = len(nums)-1\n",
    "        \n",
    "\n",
    "        while first<=last:\n",
    "\n",
    "            mid = (first + last)//2\n",
    "\n",
    "            if(nums[mid]==target):\n",
    "                return mid\n",
    "            elif(nums[mid]< target):\n",
    "                first = mid + 1\n",
    "            else:\n",
    "                last = mid - 1\n",
    "\n",
    "        return -1"
   ]
  }
 ],
 "metadata": {
  "kernelspec": {
   "display_name": "Python 3",
   "language": "python",
   "name": "python3"
  },
  "language_info": {
   "codemirror_mode": {
    "name": "ipython",
    "version": 3
   },
   "file_extension": ".py",
   "mimetype": "text/x-python",
   "name": "python",
   "nbconvert_exporter": "python",
   "pygments_lexer": "ipython3",
   "version": "3.8.5"
  }
 },
 "nbformat": 4,
 "nbformat_minor": 4
}
