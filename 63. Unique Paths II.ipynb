{
 "cells": [
  {
   "cell_type": "code",
   "execution_count": 1,
   "metadata": {},
   "outputs": [],
   "source": [
    "class Solution(object):\n",
    "    def uniquePathsWithObstacles(self, obstacleGrid):\n",
    "        row, col = len(obstacleGrid), len(obstacleGrid[0])\n",
    "        dp = [0] * col\n",
    "        dp[col-1] = 1\n",
    "\n",
    "        for r in reversed(range(row)):\n",
    "            for c in reversed(range(col)):\n",
    "                if obstacleGrid[r][c] == 1:\n",
    "                    dp[c]=0\n",
    "                elif c+1 < col: \n",
    "                    dp[c] = dp[c+1] + dp[c]\n",
    "                else:\n",
    "                    dp[c] = dp[c]\n",
    "        return dp[0]\n"
   ]
  }
 ],
 "metadata": {
  "kernelspec": {
   "display_name": "Python 3",
   "language": "python",
   "name": "python3"
  },
  "language_info": {
   "codemirror_mode": {
    "name": "ipython",
    "version": 3
   },
   "file_extension": ".py",
   "mimetype": "text/x-python",
   "name": "python",
   "nbconvert_exporter": "python",
   "pygments_lexer": "ipython3",
   "version": "3.8.5"
  }
 },
 "nbformat": 4,
 "nbformat_minor": 4
}
